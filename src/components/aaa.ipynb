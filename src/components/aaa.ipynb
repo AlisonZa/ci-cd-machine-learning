{
 "cells": [
  {
   "cell_type": "code",
   "execution_count": 1,
   "metadata": {},
   "outputs": [
    {
     "data": {
      "text/plain": [
       "'c:\\\\Users\\\\Marina\\\\Desktop\\\\cicd-project\\\\src\\\\components'"
      ]
     },
     "execution_count": 1,
     "metadata": {},
     "output_type": "execute_result"
    }
   ],
   "source": [
    "import os\n",
    "os.getcwd()"
   ]
  },
  {
   "cell_type": "code",
   "execution_count": 3,
   "metadata": {},
   "outputs": [
    {
     "data": {
      "text/plain": [
       "'c:\\\\Users\\\\Marina\\\\Desktop\\\\cicd-project'"
      ]
     },
     "execution_count": 3,
     "metadata": {},
     "output_type": "execute_result"
    }
   ],
   "source": [
    "os.chdir(\"../../\")\n",
    "os.getcwd()"
   ]
  },
  {
   "cell_type": "code",
   "execution_count": 7,
   "metadata": {},
   "outputs": [
    {
     "name": "stdout",
     "output_type": "stream",
     "text": [
      "Connected Successfully\n"
     ]
    }
   ],
   "source": [
    "import os\n",
    "from datetime import datetime\n",
    "\n",
    "from dotenv import load_dotenv\n",
    "load_dotenv()\n",
    "\n",
    "import psycopg2\n",
    "from psycopg2.extras import RealDictCursor\n",
    "\n",
    "\n",
    "DB_NAME = os.getenv('DB_NAME')\n",
    "DB_USER = os.getenv('DB_USER')\n",
    "DB_PASSWORD = os.getenv('DB_PASSWORD')\n",
    "DB_HOST = os.getenv('DB_ENDPOINT')\n",
    "DB_PORT = os.getenv('DB_PORT')\n",
    "\n",
    "try:\n",
    "    conn = psycopg2.connect(\n",
    "        # database= DB_NAME,\n",
    "        user = DB_USER,\n",
    "        password = DB_PASSWORD,\n",
    "        host = DB_HOST,\n",
    "        port = DB_PORT\n",
    "    )\n",
    "    conn.autocommit = True\n",
    "    cur = conn.cursor(cursor_factory=RealDictCursor)\n",
    "    cur.execute\n",
    "\n",
    "    print(f\"Connected Successfully\")\n",
    "except Exception as e:\n",
    "    print(e)"
   ]
  },
  {
   "cell_type": "code",
   "execution_count": 12,
   "metadata": {},
   "outputs": [],
   "source": [
    "table_create_query = \"CREATE TABLE customerInfo(id SERIAL PRIMARY KEY, name TEXT, age FLOAT)\"\n"
   ]
  },
  {
   "cell_type": "code",
   "execution_count": 13,
   "metadata": {},
   "outputs": [],
   "source": [
    "cur.execute(table_create_query)"
   ]
  },
  {
   "cell_type": "code",
   "execution_count": 14,
   "metadata": {},
   "outputs": [],
   "source": [
    "insert_query = \"\"\"insert into customerInfo (name, age) values ('abc', 22)\"\"\""
   ]
  },
  {
   "cell_type": "code",
   "execution_count": 15,
   "metadata": {},
   "outputs": [],
   "source": [
    "cur.execute(insert_query)"
   ]
  },
  {
   "cell_type": "markdown",
   "metadata": {},
   "source": [
    "#### aa"
   ]
  },
  {
   "cell_type": "code",
   "execution_count": 18,
   "metadata": {},
   "outputs": [],
   "source": [
    "from sqlalchemy.orm import sessionmaker, declarative_base\n",
    "Base = declarative_base()\n",
    "\n",
    "from sqlalchemy import create_engine, Column, Integer, String, DateTime, Float\n",
    "\n",
    "\n",
    "\"\"\"\n",
    "https://claude.ai/chat/1c3c494d-eda2-465a-8f20-d466a8320fd1\n",
    "Error logging predictions to database: connection to server at \"prediction-logs-db.czgceia6cqs7.us-east-2.rds.amazonaws.com\" (3.18.205.193), port 5432 failed: FATAL: no pg_hba.conf entry for host \"177.11.78.212\", user \"postgres\", database \"prediction-logs-db\", no encryption Logging failed: connection to server at \"prediction-logs-db.czgceia6cqs7.us-east-2.rds.amazonaws.com\" (3.18.205.193), port 5432 failed: FATAL: no pg_hba.conf entry for host \"177.11.78.212\", user \"postgres\", database \"prediction-logs-db\", no encryption\n",
    "\"\"\"\n",
    "class PredictionLog(Base):\n",
    "    __tablename__ = 'prediction_logs'\n",
    "    \n",
    "    id = Column(Integer, primary_key=True, autoincrement=True)\n",
    "    timestamp = Column(DateTime, default=datetime.utcnow)\n",
    "    gender = Column(String)\n",
    "    race_ethnicity = Column(String)\n",
    "    parental_level_of_education = Column(String)\n",
    "    lunch = Column(String)\n",
    "    test_preparation_course = Column(String)\n",
    "    reading_score = Column(Float)\n",
    "    writing_score = Column(Float)\n",
    "    prediction = Column(Float)\n",
    "\n",
    "# TODO: for production, include the SSL verification\n",
    "class DatabasePredictionLogger:\n",
    "    \"\"\"\n",
    "    Logger for storing predictions in a PostgreSQL database\n",
    "    \"\"\"\n",
    "    def __init__(self):\n",
    "        \"\"\"\n",
    "        Initialize database connection parameters\n",
    "        \"\"\"\n",
    "        # Database connection parameters from environment variables\n",
    "        self.db_endpoint = os.getenv(\"DB_ENDPOINT\")\n",
    "        self.db_port = os.getenv(\"DB_PORT\")\n",
    "        self.db_name = os.getenv(\"DB_NAME\")\n",
    "        self.db_user = os.getenv(\"DB_USER\")\n",
    "        self.db_password = os.getenv(\"DB_PASSWORD\")\n",
    "\n",
    "    def _get_connection(self):\n",
    "        \"\"\"\n",
    "        Create and return a database connection\n",
    "        \n",
    "        Returns:\n",
    "            psycopg2.extensions.connection: Database connection\n",
    "        \"\"\"\n",
    "        try:\n",
    "            conn = psycopg2.connect(\n",
    "                user=self.db_user,\n",
    "                password=self.db_password,\n",
    "                host=self.db_endpoint,\n",
    "                port=self.db_port,\n",
    "                cursor_factory=RealDictCursor  # Use RealDictCursor by default\n",
    "            )\n",
    "            conn.autocommit = True  # Set autocommit to True\n",
    "            return conn\n",
    "        except psycopg2.Error as e:\n",
    "            print(f\"Error connecting to the database: {e}\")\n",
    "            raise\n",
    "\n",
    "    def log_prediction(self, input_data, prediction):\n",
    "        \"\"\"\n",
    "        Log a single or batch prediction to the PostgreSQL database\n",
    "        \n",
    "        Args:\n",
    "            input_data: Input feature(s)\n",
    "            prediction: Prediction result(s)\n",
    "        \n",
    "        Returns:\n",
    "            int: Number of logs inserted\n",
    "        \"\"\"\n",
    "        # Ensure inputs are lists (assuming you have PredictionInput and PredictionOutput classes)\n",
    "        if not isinstance(input_data, list):\n",
    "            input_data = [input_data]\n",
    "        \n",
    "        if not isinstance(prediction, list):\n",
    "            prediction = [prediction]\n",
    "        \n",
    "        # Validate input lengths\n",
    "        if len(input_data) != len(prediction):\n",
    "            raise ValueError(\"Input data and prediction lists must have the same length\")\n",
    "\n",
    "        conn = None\n",
    "        try:\n",
    "            conn = self._get_connection()\n",
    "            \n",
    "            with conn.cursor() as cur:\n",
    "                # Prepare insert statement\n",
    "                insert_query = \"\"\"\n",
    "                INSERT INTO prediction_logs (\n",
    "                    timestamp, gender, race_ethnicity, \n",
    "                    parental_level_of_education, lunch, \n",
    "                    test_preparation_course, reading_score, \n",
    "                    writing_score, prediction\n",
    "                ) VALUES (\n",
    "                    %s, %s, %s, %s, %s, %s, %s, %s, %s\n",
    "                )\n",
    "                \"\"\"\n",
    "                \n",
    "                # Prepare log entries\n",
    "                log_entries = []\n",
    "                for inp, pred in zip(input_data, prediction):\n",
    "                    log_entry = (\n",
    "                        datetime.utcnow(),\n",
    "                        inp.gender,\n",
    "                        inp.race_ethnicity,\n",
    "                        inp.parental_level_of_education,\n",
    "                        inp.lunch,\n",
    "                        inp.test_preparation_course,\n",
    "                        inp.reading_score,\n",
    "                        inp.writing_score,\n",
    "                        pred.prediction\n",
    "                    )\n",
    "                    log_entries.append(log_entry)\n",
    "                \n",
    "                # Execute batch insert\n",
    "                cur.executemany(insert_query, log_entries)\n",
    "            \n",
    "            print(f\"Successfully logged {len(log_entries)} prediction(s) to database\")\n",
    "            return len(log_entries)\n",
    "        \n",
    "        except psycopg2.Error as e:\n",
    "            print(f\"Database error logging predictions: {e}\")\n",
    "            raise\n",
    "        finally:\n",
    "            if conn:\n",
    "                conn.close()\n",
    "\n",
    "    def create_prediction_logs_table(self):\n",
    "        \"\"\"\n",
    "        Create the prediction_logs table if it doesn't exist\n",
    "        \"\"\"\n",
    "        conn = None\n",
    "        try:\n",
    "            conn = self._get_connection()\n",
    "            \n",
    "            with conn.cursor() as cur:\n",
    "                # Create table if not exists\n",
    "                create_table_query = \"\"\"\n",
    "                CREATE TABLE IF NOT EXISTS prediction_logs (\n",
    "                    id SERIAL PRIMARY KEY,\n",
    "                    timestamp TIMESTAMP DEFAULT CURRENT_TIMESTAMP,\n",
    "                    gender VARCHAR(50),\n",
    "                    race_ethnicity VARCHAR(50),\n",
    "                    parental_level_of_education VARCHAR(100),\n",
    "                    lunch VARCHAR(50),\n",
    "                    test_preparation_course VARCHAR(100),\n",
    "                    reading_score FLOAT,\n",
    "                    writing_score FLOAT,\n",
    "                    prediction FLOAT\n",
    "                )\n",
    "                \"\"\"\n",
    "                \n",
    "                # Execute create table query\n",
    "                cur.execute(create_table_query)\n",
    "            \n",
    "            print(\"Prediction logs table ensured.\")\n",
    "        \n",
    "        except psycopg2.Error as e:\n",
    "            print(f\"Error creating prediction logs table: {e}\")\n",
    "            raise\n",
    "        finally:\n",
    "            if conn:\n",
    "                conn.close()\n",
    "\n"
   ]
  },
  {
   "cell_type": "code",
   "execution_count": 20,
   "metadata": {},
   "outputs": [
    {
     "name": "stdout",
     "output_type": "stream",
     "text": [
      "Prediction logs table ensured.\n"
     ]
    }
   ],
   "source": [
    "DatabasePredictionLogger().create_prediction_logs_table()"
   ]
  },
  {
   "cell_type": "code",
   "execution_count": null,
   "metadata": {},
   "outputs": [],
   "source": []
  }
 ],
 "metadata": {
  "kernelspec": {
   "display_name": "mlops-cicd",
   "language": "python",
   "name": "python3"
  },
  "language_info": {
   "codemirror_mode": {
    "name": "ipython",
    "version": 3
   },
   "file_extension": ".py",
   "mimetype": "text/x-python",
   "name": "python",
   "nbconvert_exporter": "python",
   "pygments_lexer": "ipython3",
   "version": "3.10.15"
  }
 },
 "nbformat": 4,
 "nbformat_minor": 2
}
